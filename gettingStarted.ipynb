{
 "metadata": {
  "name": "gettingStarted"
 },
 "nbformat": 3,
 "nbformat_minor": 0,
 "worksheets": [
  {
   "cells": [
    {
     "cell_type": "heading",
     "level": 1,
     "metadata": {},
     "source": [
      "Getting Started"
     ]
    },
    {
     "cell_type": "heading",
     "level": 2,
     "metadata": {},
     "source": [
      "Starting Python"
     ]
    },
    {
     "cell_type": "markdown",
     "metadata": {},
     "source": [
      "There are three reasons why I am using Python:\n",
      "\n",
      "*    It is the most elegant programming language that I know.\n",
      "*    It is free.\n",
      "*    It is powerful.\n",
      "\n",
      "There is a lot of good starting material on the web (see also the links below). If you are looking for an introductory book, check out D. Harms and K. McDonald. The Quick Python Book (2nd Ed). Manning Publications Co., 2010\n",
      "\n",
      "Once you start programing, the internet is the best source for documentation and for help. Personally, most of the time I just google; thereby I stick primarily a) to the official pages, and b) to http://stackoverflow.com/ . Also, I have found user groups surprisingly active and helpful!"
     ]
    },
    {
     "cell_type": "heading",
     "level": 3,
     "metadata": {},
     "source": [
      "Links"
     ]
    },
    {
     "cell_type": "markdown",
     "metadata": {},
     "source": [
      "Python has a steep learning curve - so don't exptect everything to work right away! Learn to use the available documentation, as it will significantly enhance your Python experience:\n",
      "\n",
      "*    http://jrjohansson.github.com/ Lectures on scientific computing with Python. Great ipython notebooks!\n",
      "*    http://docs.python.org/2/tutorial/ The Python tutorial. The official introduction.\n",
      "*    http://scipy-lectures.github.com/ Python Scientific Lecture Notes. Pretty comprehensive.\n",
      "*    http://www.greenteapress.com/thinkpython/ ThinkPython: A free book on Python.\n",
      "*    http://www.scipy.org/NumPy_for_Matlab_Users Start here if you have Matlab experience.\n",
      "\n",
      "In general, I suggest that you start out by installing a Python distribution which includes the most important libraries. My favorites here are *Python(x,y)* and *WinPython*, which are very good starting points when you are using Windows. The former one has the advantage that most available documentation and help files also get installed locally. Mac and Unix users should check out the installations tips from Johansson (see above).\n",
      "\n",
      "If you decide to install things manually, you need the following modules in addition to the Python standard library:\n",
      "\n",
      "*    ipython ... For interactive work.\n",
      "*    numpy ... For working with vectors and arrays.\n",
      "*    scipy ... All the essential scientific algorithms, including those for statistics.\n",
      "*    matplotlib ... The de-facto standard module for plotting and visualization."
     ]
    },
    {
     "cell_type": "heading",
     "level": 3,
     "metadata": {},
     "source": [
      "Install Python"
     ]
    },
    {
     "cell_type": "markdown",
     "metadata": {},
     "source": [
      "**Comment:**\n",
      "This performs the basic Python installation, with all common toolboxes. As it\n",
      "comes with OpenCV2.4.2 (and some of the applications there don't work for me)\n",
      "we will skip the OpenCV package, and install it manually afterwards. Note that\n",
      "this will take some time!\n",
      "\n",
      "- Download \"Python(x,y)-2.7.5.0.exe\" from https://code.google.com/p/pythonxy/wiki/Downloads\n",
      "- install Python(x,y), Version 2.7.5.0 as follows:\n",
      "    - first choose the \"Full\" option\n",
      "    - then unselect \"OpenCV2.4.2\""
     ]
    },
    {
     "cell_type": "heading",
     "level": 3,
     "metadata": {},
     "source": [
      "Install OpenCV"
     ]
    },
    {
     "cell_type": "markdown",
     "metadata": {},
     "source": [
      "**Comment:**\n",
      "This installs most of the functionality of OpenCV, including codecs required\n",
      "to evaluate videos. Since the display of images still causes trouble\n",
      "afterwards, we will replace some libraries with those from another build\n",
      "below.\n",
      "\n",
      "- From \"http://www.lfd.uci.edu/~gohlke/pythonlibs/#opencv\" download\n",
      "  \"opencv-python-2.4.6.win32-py2.7.exe\", and run it."
     ]
    },
    {
     "cell_type": "heading",
     "level": 4,
     "metadata": {},
     "source": [
      "Update some OpenCV-libraries"
     ]
    },
    {
     "cell_type": "markdown",
     "metadata": {},
     "source": [
      "**Comment:**\n",
      "At least on my computer, I had to do this to display images properly. In a\n",
      "pinch, this step could be skipped, and \"imshow\" from Matplotlib could be used\n",
      "for the display of images. OpenCV also worked properly form me when I\n",
      "re-compiled OpenCV by hand - but this takes quite a bit of time.\n",
      "\n",
      "- Download http://sourceforge.net/projects/opencvlibrary/files/latest/download?source=files \n",
      "- Run \"OpenCV-2.4.6.0.exe\", and unzip them e.g. to \"C:\\\" (this will create an\n",
      "    \"openCV\" directory there)\n",
      "- Copy all files from \"C:\\openCV\\build\\x86\\vc10\\bin\" to\n",
      "    \"C:\\Python27\\Lib\\site-packages\" (overwrite existing files)\n",
      "- Copy \"C:\\openCV\\build\\python\\2.7\\cv2.pyd\" to \"C:\\Python27\\Lib\\site-packages\"\n",
      "- If you are very short of space, you can delete the extracte \"C:\\openCV\"\n",
      "  directory now, as it takes up almost 3 GB of space. If you have the space,\n",
      "  keep it for the moment, as it has some good sample files."
     ]
    },
    {
     "cell_type": "heading",
     "level": 3,
     "metadata": {},
     "source": [
      "IPython"
     ]
    },
    {
     "cell_type": "markdown",
     "metadata": {},
     "source": [
      "Make sure that you have a good programming environment! Currently, my favorite way of programming is similar to my old Matlab style: I first get the individual steps worked out interactively in *ipython*. Ipython has made enormous progess over the last few years. It provides interactive computing with Python, similar to the commandline in Matlab. It comes with a command history, interactive data visualization, command completion, and a lot of features that make it quick and easy to try out code. When ipython is started in pylab mode (which is the typical configuration), it automatically loads numpy and matplotlib.pyplot into the active workspace, and provides a very convenient, Matlab-like programing environment. You can do this e.g. with the command *ipython qtconsole --pylab=inline*.\n",
      "\n",
      "A very helpful new addition is the browser-based *ipython notebook*, with support for code, text, mathematical expressions, inline plots and other rich media.\n",
      "\n",
      "To write a program, I then go to either *Spyder* (which is free, and also comes with Python(x,y)) or *Wing* (which is very good, but commercial).\n",
      "\n",
      "The flexibility of Python has the \u201cdisadvantage\u201d that it can come in differnt flavors or coding styles. When you know the different approaches, they are great to use. But when you get started, it can be a bit confusing. The following section from the Matplotlib documentation may help to clarify these things:"
     ]
    },
    {
     "cell_type": "heading",
     "level": 3,
     "metadata": {},
     "source": [
      "Matplotlib, pylab, and pyplot: how are they related?"
     ]
    },
    {
     "cell_type": "markdown",
     "metadata": {},
     "source": [
      "*Matplotlib* is the whole package; *pylab* is a module in matplotlib that gets installed alongside matplotlib, and provides a Matlab-like working environment; and *matplotlib.pyplot* is a matplotlib module containing all the plotting commands.\n",
      "\n",
      "**Pyplot** provides the state-machine interface to the underlying plotting library in matplotlib. This means that figures and axes are implicitly and automatically created to achieve the desired plot. For example, calling plot from pyplot will automatically create the necessary figure and axes to achieve the desired plot. Setting a title will then automatically set that title to the current axes object:"
     ]
    },
    {
     "cell_type": "code",
     "collapsed": false,
     "input": [
      "# If you have not invoked the \"inline\" option during startup, you can do so here.\n",
      "# This shows the graphs in this webpage, instead of in a separate window.\n",
      "%pylab inline\n",
      "\n",
      "# First the typical header, importing the most important modules\n",
      "import matplotlib.pyplot as plt\n",
      "import numpy as np\n",
      "\n",
      "# Generate the data\n",
      "x = np.arange(0, 10, 0.2)\n",
      "y = np.sin(x)\n",
      "\n",
      "# Plot them\n",
      "plt.plot(x, y)\n",
      "plt.show()"
     ],
     "language": "python",
     "metadata": {},
     "outputs": [
      {
       "output_type": "stream",
       "stream": "stdout",
       "text": [
        "\n",
        "Welcome to pylab, a matplotlib-based Python environment [backend: module://IPython.zmq.pylab.backend_inline].\n",
        "For more information, type 'help(pylab)'.\n"
       ]
      },
      {
       "output_type": "display_data",
       "png": "[encoded data removed]"
      }
     ],
     "prompt_number": 5
    },
    {
     "cell_type": "markdown",
     "metadata": {},
     "source": [
      "Note that this example used pyplot\u2019s state-machine to automatically and implicitly create a figure and an axes. For full control of your plots and more advanced usage, use the pyplot interface shown below for creating figures, and then use the object methods for the rest."
     ]
    },
    {
     "cell_type": "markdown",
     "metadata": {},
     "source": [
      "**Pylab** combines the pyplot functionality (for plotting) with the numpy functionality (for mathematics and for working with arrays) in a single namespace, making that namespace (or environment) even more MATLAB-like. For example, one can call the sin and cos functions just like you could in MATLAB, as well as having all the features of pyplot."
     ]
    },
    {
     "cell_type": "code",
     "collapsed": false,
     "input": [
      "from pylab import *\n",
      "\n",
      "# Generate the data\n",
      "x = arange(0, 10, 0.2)\n",
      "y = sin(x)\n",
      "\n",
      "# Plot them\n",
      "plot(x, y)\n",
      "show()"
     ],
     "language": "python",
     "metadata": {},
     "outputs": [
      {
       "output_type": "display_data",
       "png": "[encoded data removed]"
      }
     ],
     "prompt_number": 9
    },
    {
     "cell_type": "markdown",
     "metadata": {},
     "source": [
      "The pyplot interface is generally preferred for non-interactive plotting (i.e., scripting). The pylab interface is convenient for interactive calculations and plotting, as it minimizes typing. Note that this is what you get if you use the ipython shell with the -pylab option, which imports everything from pylab and makes plotting fully interactive."
     ]
    },
    {
     "cell_type": "heading",
     "level": 4,
     "metadata": {},
     "source": [
      "Coding Styles in Python"
     ]
    },
    {
     "cell_type": "markdown",
     "metadata": {},
     "source": [
      "In Python you will find different coding styles and usage patterns. These styles are perfectly valid and have their pros and cons. Just about all of the examples can be converted into another style and achieve the same results. The only caveat is to avoid mixing the coding styles for your own code.\n",
      "\n",
      "Of the different styles, there are two that are officially supported: the pyplot-style shown above (*import numpy as np, ...*), and the more explicit one shown just below. Therefore, these are the preferred ways to use matplotlib."
     ]
    },
    {
     "cell_type": "code",
     "collapsed": false,
     "input": [
      "import matplotlib.pyplot as plt\n",
      "import numpy as np\n",
      "\n",
      "# Generate the data\n",
      "x = np.arange(0, 10, 0.2)\n",
      "y = np.sin(x)\n",
      "\n",
      "# Plot them\n",
      "fig = plt.figure()\n",
      "ax = fig.add_subplot(111)\n",
      "ax.plot(x, y)\n",
      "plt.show()"
     ],
     "language": "python",
     "metadata": {},
     "outputs": [
      {
       "output_type": "display_data",
       "png": "[encoded data removed]"
      }
     ],
     "prompt_number": 7
    },
    {
     "cell_type": "markdown",
     "metadata": {},
     "source": [
      "So, why all the extra typing as one moves away from the pure MATLAB-style? For very simple things like this example, the only advantage is academic: the wordier styles are more explicit, more clear as to where things come from and what is going on. For more complicated applications, this explicitness and clarity becomes increasingly valuable, and the richer and more complete object-oriented interface will likely make the program easier to write and maintain. For interactive work, it is simplest to use the pylab mode. \n",
      "\n",
      "Next, let us have a brief look at the basic functionality of Python in  [FirstSteps.ipynb](<http://nbviewer.ipython.org/url/raw.github.com/thomas-haslwanter/Lund/master/FirstSteps.ipynb>)."
     ]
    }
   ],
   "metadata": {}
  }
 ]
}